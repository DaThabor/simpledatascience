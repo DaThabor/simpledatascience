{
 "cells": [
  {
   "cell_type": "markdown",
   "metadata": {},
   "source": [
    "![](DaThabor_Logo.png)\n",
    "\n",
    "----------\n",
    "\n",
    "<br>\n",
    "\n",
    "# **ADVANCED TOPICS**\n",
    "\n",
    "<br>\n",
    "\n",
    "----------\n",
    "\n",
    "# SIMPLE DATA SCIENCE PROJECTS\n",
    "\n",
    "<br>\n",
    "\n",
    "April, 2020\n",
    "\n",
    "<br>\n",
    "\n",
    "## Point-Biserial correlation\n",
    "\n",
    "<br>\n",
    "\n",
    "----------"
   ]
  },
  {
   "cell_type": "markdown",
   "metadata": {},
   "source": [
    "> source: [Statistics How To](https://www.statisticshowto.com/point-biserial-correlation/)\n",
    "\n",
    "The point biserial correlation coefficient, $r_{pbi}$, is a special case of [Pearson’s correlation coefficient](). It measures the relationship between two variables:\n",
    "\n",
    "    One continuous variable (must be ratio scale or interval scale).\n",
    "    One naturally binary variable.\n",
    "\n",
    "Many different situations call for analyzing a link between a binary variable and a continuous variable. For example:\n",
    "\n",
    "    Does Drug A or Drug B improve depression?\n",
    "    Are women or men likely to earn more as nurses?\n"
   ]
  },
  {
   "cell_type": "markdown",
   "metadata": {},
   "source": [
    "## Formula\n",
    "\n",
    "The formula for the point biserial correlation coefficient is:\n",
    "\n",
    "$r_{pb} = \\frac{M_{1} - M_{0}}{s_{n}} \\sqrt pq$\n",
    "\n",
    ",where\n",
    "    $M_{1}$ = mean (for the entire test) of the group that received the positive binary variable (i.e. the “1”).\n",
    "    $M_{0}$ = mean (for the entire test) of the group that received the negative binary variable (i.e. the “0”).\n",
    "    $S_{n}$ = standard deviation for the entire test.\n",
    "    $p$ = Proportion of cases in the “0” group.\n",
    "    $q$ = Proportion of cases in the “1” group.\n",
    "\n",
    "Most people won’t work this formula by hand as most statistical software packages can calculate the coefficient for you."
   ]
  },
  {
   "cell_type": "markdown",
   "metadata": {},
   "source": [
    "## Interpretation\n",
    "\n",
    "Like other correlation coefficients, the point biserial ranges from 0 to 1, where 0 is no relationship and 1 is a perfect relationship.\n",
    "\n",
    "Graphs showing a correlation of -1, 0 and +1\n",
    "\n",
    "\n",
    "\n",
    "Cautions:\n",
    "\n",
    "    *If you intentionally force data to become binary so that you can run point biserial correlation, perhaps by splitting continuous ratio variables into two segments, it will make your results less reliable. There are exceptions to this rule of thumb. For example, you could separate test scores or GPAs into pass/fail, creating a logical binary variable. An example unnaturally forcing a scale into a binary variable: saying that people under 5’9″ are “Short” and over 5’9″ are “tall.”\n",
    "    One assumption for this test is that the variables are randomly independent. Therefore, the point biserial shouldn’t be used to analyze experimental results; use Linear Regression with dummy variables instead.\n"
   ]
  },
  {
   "cell_type": "code",
   "execution_count": null,
   "metadata": {},
   "outputs": [],
   "source": []
  }
 ],
 "metadata": {
  "kernelspec": {
   "display_name": "Python 3",
   "language": "python",
   "name": "python3"
  },
  "language_info": {
   "codemirror_mode": {
    "name": "ipython",
    "version": 3
   },
   "file_extension": ".py",
   "mimetype": "text/x-python",
   "name": "python",
   "nbconvert_exporter": "python",
   "pygments_lexer": "ipython3",
   "version": "3.6.5"
  }
 },
 "nbformat": 4,
 "nbformat_minor": 4
}
