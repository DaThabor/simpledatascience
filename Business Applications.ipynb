{
 "cells": [
  {
   "cell_type": "markdown",
   "metadata": {},
   "source": [
    "![](DaThabor_Logo.png)\n",
    "\n",
    "----------\n",
    "\n",
    "<br>\n",
    "\n",
    "# **BUSINESS APPLICATIONS**\n",
    "\n",
    "<br>\n",
    "\n",
    "----------\n",
    "\n",
    "# SIMPLE DATA SCIENCE PROJECTS\n",
    "\n",
    "<br>\n",
    "\n",
    "April, 2020\n",
    "\n",
    "<br>\n",
    "\n",
    "## Examples of business applications\n",
    "\n",
    "<br>\n",
    "\n",
    "----------"
   ]
  },
  {
   "cell_type": "markdown",
   "metadata": {},
   "source": [
    "## Forecasting Sales\n",
    "\n",
    "In a business perspective it is important to get an understanding of the upcoming 'Sales' in the near or long-term future. Based on historical data of a company, the 'sales' or 'revenue' can be predicted for the coming month(s), quarter(s), year(s), etc. \n",
    "\n",
    "<br>\n",
    "\n",
    "While using a confidence level in the predictions, business decisions can be made based on these predictions.\n",
    "\n",
    "<br>\n",
    "\n",
    "The most simple way of predicting the Sales forecast, is by using a simple linear regression, using the time periods as x-values (dependent variables) and the sales or revenue values as independent variable (y-axis).\n",
    "\n",
    "<br>\n",
    "\n",
    "Another method can be to use a Time-Series model to predict future sales.\n",
    "\n",
    "<br>\n",
    "\n",
    "- [Simple Linear regression]()\n",
    "- [Multiple Linear regression]()\n",
    "- [Time-Series]()"
   ]
  },
  {
   "cell_type": "markdown",
   "metadata": {},
   "source": [
    "## Prepare annual marketing budget based on target groups\n",
    "\n",
    "By looking at the different target groups a company has, an anlysis and learning model can be implemented to decide how the marketing budget should/can be allocated to retrieve the maximum output."
   ]
  },
  {
   "cell_type": "markdown",
   "metadata": {},
   "source": [
    "## "
   ]
  }
 ],
 "metadata": {
  "kernelspec": {
   "display_name": "Python 3",
   "language": "python",
   "name": "python3"
  },
  "language_info": {
   "codemirror_mode": {
    "name": "ipython",
    "version": 3
   },
   "file_extension": ".py",
   "mimetype": "text/x-python",
   "name": "python",
   "nbconvert_exporter": "python",
   "pygments_lexer": "ipython3",
   "version": "3.6.5"
  }
 },
 "nbformat": 4,
 "nbformat_minor": 4
}
