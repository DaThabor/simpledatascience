{
 "cells": [
  {
   "cell_type": "markdown",
   "metadata": {},
   "source": [
    "![](DaThabor_Logo.png)\n",
    "\n",
    "----------\n",
    "\n",
    "<br>\n",
    "\n",
    "# **MATHS-STATS**\n",
    "\n",
    "<br>\n",
    "\n",
    "----------\n",
    "\n",
    "# SIMPLE DATA SCIENCE PROJECTS\n",
    "\n",
    "<br>\n",
    "\n",
    "April, 2020\n",
    "\n",
    "<br>\n",
    "\n",
    "## Statistical Hypothesis Testing\n",
    "\n",
    "<br>\n",
    "\n",
    "----------"
   ]
  },
  {
   "cell_type": "markdown",
   "metadata": {},
   "source": [
    "After the [Maths-Stats - Inferential Statistics](), we want to get more insight from the data by interpreting the data. We can assume that the data has a particular structure, but we need to confirm or reject that assumption.\n",
    "\n",
    "<br>\n",
    "\n",
    "This assumption is so called a hypothesis and the tests used to confirm or reject the hypothesis is called (statistical) hypothesis testing.\n",
    "This assumption is based on interpreting the data, e.g. we assume that the data is distributed in a particular way, or we assume that one set of results is the same or different than another set of data. By using the (statistical) hypothesis tests, we can statistically or either confirm that our assumption was correct, or the test results show that our assumption was incorrect, and therefore we reject it.\n",
    "\n",
    "<br>\n",
    "\n",
    "So even though by now we have looked into the data in several ways ([Descriptive Analysis](), [Prescriptive Analyis]() and [Inferential Statistics]()), we still need to interpret the data in a meaningful way. And to confirm our interpretation we need to execute tests to either confirm or reject.\n",
    "\n",
    "<br>\n",
    "\n",
    "The assumption that we came up with from intepreting the data, is what is called the NULL hypothesis, also denoted as $H_{0}$. This is the hypothesis that we want to test if it holds true, or moreover we want to test it so we can conclude the assumption was incorrect (reject this assumption, or reject the null hypothesis). If we are not able to do this, it means that we cannot find a way of telling that our assumption was incorrect (which doesn't per se means it IS correct), therefore we conclude that we are not able to say that our assumption was incorrect, and therefore we fail to reject the null hypothesis. The hypothesis that tries to reject the null hypothesis, is so called the $H_{1}$ hypothesis.\n",
    "\n",
    "<br>\n",
    "\n",
    "In this section the different tests will be explained, that can be used to test the hypothesis. We need to understand the outcome of these tests first, so we can decide if we were able to reject or failed to reject the hypothesis.\n"
   ]
  },
  {
   "cell_type": "markdown",
   "metadata": {},
   "source": [
    "## Statistical Tests Results\n",
    "\n",
    "The outcome of the statistical hypothesis testing will or can result in 2 outcomes. The first one is the p-value, the second one the critical value. Both are explained in the next sections.\n",
    "\n",
    "### P-Value\n",
    "\n"
   ]
  }
 ],
 "metadata": {
  "kernelspec": {
   "display_name": "Python 3",
   "language": "python",
   "name": "python3"
  },
  "language_info": {
   "codemirror_mode": {
    "name": "ipython",
    "version": 3
   },
   "file_extension": ".py",
   "mimetype": "text/x-python",
   "name": "python",
   "nbconvert_exporter": "python",
   "pygments_lexer": "ipython3",
   "version": "3.6.5"
  }
 },
 "nbformat": 4,
 "nbformat_minor": 4
}
