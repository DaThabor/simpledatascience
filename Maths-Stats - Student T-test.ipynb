{
 "cells": [
  {
   "cell_type": "markdown",
   "metadata": {},
   "source": [
    "![](DaThabor_Logo.png)\n",
    "\n",
    "----------\n",
    "\n",
    "<br>\n",
    "\n",
    "# **MATHS-STATS**\n",
    "\n",
    "<br>\n",
    "\n",
    "----------\n",
    "\n",
    "# SIMPLE DATA SCIENCE PROJECTS\n",
    "\n",
    "<br>\n",
    "\n",
    "April, 2020\n",
    "\n",
    "<br>\n",
    "\n",
    "## Student's T-Test\n",
    "\n",
    "<br>\n",
    "\n",
    "----------"
   ]
  },
  {
   "cell_type": "markdown",
   "metadata": {},
   "source": [
    "> Source: [Machine Learning Mastery - Blog](https://machinelearningmastery.com/how-to-code-the-students-t-test-from-scratch-in-python/)"
   ]
  },
  {
   "cell_type": "markdown",
   "metadata": {},
   "source": [
    "The Student’s t-Test is a statistical hypothesis test for testing whether two samples are expected to have been drawn from the same population.\n",
    "\n",
    "It is named for the pseudonym “Student” used by William Gosset, who developed the test.\n",
    "\n",
    "The test works by checking the means from two samples to see if they are significantly different from each other. It does this by calculating the standard error in the difference between means, which can be interpreted to see how likely the difference is, if the two samples have the same mean (the null hypothesis).\n",
    "\n",
    "The t statistic calculated by the test can be interpreted by comparing it to critical values from the t-distribution. The critical value can be calculated using the degrees of freedom and a significance level with the percent point function (PPF).\n",
    "\n",
    "We can interpret the statistic value in a two-tailed test, meaning that if we reject the null hypothesis, it could be because the first mean is smaller or greater than the second mean. To do this, we can calculate the absolute value of the test statistic and compare it to the positive (right tailed) critical value, as follows:\n",
    "\n",
    "    If abs(t-statistic) <= critical value: Accept null hypothesis that the means are equal.\n",
    "    If abs(t-statistic) > critical value: Reject the null hypothesis that the means are equal.\n",
    "\n",
    "We can also retrieve the cumulative probability of observing the absolute value of the t-statistic using the cumulative distribution function (CDF) of the t-distribution in order to calculate a p-value. The p-value can then be compared to a chosen significance level (alpha) such as 0.05 to determine if the null hypothesis can be rejected:\n",
    "\n",
    "    If p > alpha: Accept null hypothesis that the means are equal.\n",
    "    If p <= alpha: Reject null hypothesis that the means are equal.\n",
    "\n",
    "In working with the means of the samples, the test assumes that both samples were drawn from a Gaussian distribution. The test also assumes that the samples have the same variance, and the same size, although there are corrections to the test if these assumptions do not hold. For example, see Welch’s t-test.\n",
    "\n",
    "There are two main versions of Student’s t-test:\n",
    "\n",
    "    Independent Samples. The case where the two samples are unrelated.\n",
    "    Dependent Samples. The case where the samples are related, such as repeated measures on the same population. Also called a paired test.\n",
    "\n",
    "Both the independent and the dependent Student’s t-tests are available in Python via the ttest_ind() and ttest_rel() SciPy functions respectively.\n",
    "\n",
    "Note: I recommend using these SciPy functions to calculate the Student’s t-test for your applications, if they are suitable. The library implementations will be faster and less prone to bugs. I would only recommend implementing the test yourself for learning purposes or in the case where you require a modified version of the test.\n",
    "\n",
    "We will use the SciPy functions to confirm the results from our own version of the tests."
   ]
  },
  {
   "cell_type": "code",
   "execution_count": null,
   "metadata": {},
   "outputs": [],
   "source": []
  }
 ],
 "metadata": {
  "kernelspec": {
   "display_name": "Python 3",
   "language": "python",
   "name": "python3"
  },
  "language_info": {
   "codemirror_mode": {
    "name": "ipython",
    "version": 3
   },
   "file_extension": ".py",
   "mimetype": "text/x-python",
   "name": "python",
   "nbconvert_exporter": "python",
   "pygments_lexer": "ipython3",
   "version": "3.6.5"
  }
 },
 "nbformat": 4,
 "nbformat_minor": 4
}
