{
 "cells": [
  {
   "cell_type": "markdown",
   "metadata": {},
   "source": [
    "# THEORY OF A STRAIGHT LINE\n",
    "\n",
    "## Simple Data Science\n",
    "\n",
    "DaThabor &copy;, May 2020"
   ]
  },
  {
   "cell_type": "markdown",
   "metadata": {},
   "source": [
    "<img src=\"StartScreen.jpg\" alt=\"drawing\" width=\"800\"/>"
   ]
  },
  {
   "cell_type": "markdown",
   "metadata": {},
   "source": [
    "## Equation of a straight line\n",
    "\n",
    "In the first step we are going to have a look at the most basic form of the straight line, and finding the outcome of the equation.\n",
    "\n",
    "The formula for the straight line is:\n",
    "\n",
    "$y = \\beta_{0} + \\beta_{1} x$\n",
    "\n",
    "This means we have to find the values for $\\beta_{0}$ and $\\beta_{1}$, so we can get the y-value for any given x value.\n",
    "\n",
    "In the plot we first add our data points"
   ]
  },
  {
   "cell_type": "markdown",
   "metadata": {},
   "source": [
    "<img src=\"SDS-SLR-Screen2.png\" alt=\"drawing\" width=\"800\"/>"
   ]
  },
  {
   "cell_type": "markdown",
   "metadata": {},
   "source": [
    "If we look closely at the plot, we can tell that all the data points are exactly on a straight line. Which is on purpose for now, as we want to simplify understandign this basic concept, before we head over to the linear regression model.\n",
    "\n",
    "For that, we add a line through all the data points, so we can confirm it's indeed a straight line. We also make sure that the lines crosses the y-axis, as we first want to find the $\\beta_{0}$ value.\n",
    "\n",
    "The value $\\beta_{0}$ is nothing more than the y-intercept, or the point where the straight line crosses the y-axis. In below picture you can find the value for $\\beta_{0}$ to be '1'. \n",
    "\n",
    "Therefore, we replace the $\\beta_{0}$ value in our equation with the value '1', that we just discovered."
   ]
  },
  {
   "cell_type": "markdown",
   "metadata": {},
   "source": [
    "<img src=\"SDS-SLR-Screen3.png\" alt=\"drawing\" width=\"800\"/>"
   ]
  },
  {
   "cell_type": "markdown",
   "metadata": {},
   "source": [
    "We have one value left in our equation to fiure out, which is the $\\beta_{1}$ value. The $\\beta_{1}$ value is the slope of the line, or moreover, how much is the line increasing or decreasing. The slope gives an idea of the steepness of the line.\n",
    "\n",
    "To find the value of $\\beta_{1}$, we need to take the difference of two steps: the **height**, which is the difference in the y-axis values when we have a **width** of '1' on the x-axis (width here means that we go one x-axis value to the right).\n",
    "\n",
    "Once we have the **height** and the **width** value, we can divide the two to get the $\\beta_{1}$ value. Again we take this value and add it to our equation, which no shows:\n",
    "\n",
    "$y=1+1*x$"
   ]
  },
  {
   "cell_type": "markdown",
   "metadata": {},
   "source": [
    "<img src=\"SDS-SLR-Screen4.png\" alt=\"drawing\" width=\"800\"/>"
   ]
  },
  {
   "cell_type": "markdown",
   "metadata": {},
   "source": [
    "To calculate the y-value at any given 'x', we can now use the equation of the straight line to find out. Check the plot, to see if the values are indeed correct.\n",
    "\n",
    "X = 3 --> y = 1 + 1 * 3 = 4\n",
    "\n",
    "X = 5 --> y = 1 + 1 * 5 = 6\n",
    "\n",
    "X= = 100 --> y = 1 + 1 * 100 = 101"
   ]
  }
 ],
 "metadata": {
  "kernelspec": {
   "display_name": "Python 3",
   "language": "python",
   "name": "python3"
  },
  "language_info": {
   "codemirror_mode": {
    "name": "ipython",
    "version": 3
   },
   "file_extension": ".py",
   "mimetype": "text/x-python",
   "name": "python",
   "nbconvert_exporter": "python",
   "pygments_lexer": "ipython3",
   "version": "3.6.5"
  }
 },
 "nbformat": 4,
 "nbformat_minor": 4
}
