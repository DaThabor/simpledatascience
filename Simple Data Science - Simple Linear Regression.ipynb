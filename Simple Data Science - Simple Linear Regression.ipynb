{
 "cells": [
  {
   "cell_type": "markdown",
   "metadata": {},
   "source": [
    "![](DaThabor_Logo.png)\n",
    "\n",
    "----------\n",
    "\n",
    "# **SIMPLE DATA SCIENCE**\n",
    "\n",
    "<br>\n",
    "\n",
    "May, 2020\n",
    "\n",
    "<br>\n",
    "\n",
    "## Simple Linear Regression\n",
    "\n",
    "<br>\n",
    "\n",
    "----------"
   ]
  },
  {
   "cell_type": "markdown",
   "metadata": {},
   "source": [
    "<br>\n",
    "\n",
    "> <span style=\"font-family: Verdana; font-size:18;color:darkblue;\"> **If I wouldn't question my data, the data might question me -- DaThabor, May 2020** </span>\n",
    "\n",
    "<br>"
   ]
  },
  {
   "cell_type": "markdown",
   "metadata": {},
   "source": [
    "<br>\n",
    "\n",
    "<img src=\"Theory-icon.png\" alt=\"Drawing\" style=\"width: 150px;\"/>\n",
    "\n",
    "<br>\n",
    "\n",
    "<span style=\"font-family: Brush Script MT; font-size:1.5em;color:orange;\"> Golden, add some text in golden to see how the font looks like </span>\n",
    "\n",
    "<br>\n",
    "\n",
    "### <span style=\"color:green\">**THEORY**</span>\n",
    "\n",
    "<br>\n",
    "\n",
    "<span style=\"color:green\">A simple linear regression is a statistical method to to summarize and study relationships between two continuous (quantitative) variables:</span>\n",
    "\n",
    "<span style=\"color:green\"> One variable, denoted **x**, is regarded as the predictor, explanatory, or independent variable. </span>\n",
    "<span style=\"color:green\"> The other variable, denoted **y**, is regarded as the response, outcome, or dependent variable. </span>\n",
    "\n",
    "<span style=\"color:green\"> Because the other terms are used less frequently today, we'll use the `independent variable` and `dependent variable` terms to refer to the variables encountered. \n",
    "\n",
    "<span style=\"color:green\"> The other terms are mentioned only to make you aware of them should you encounter them. Simple linear regression gets its adjective \"simple,\" because it concerns the study of only one independent variable. In contrast, multiple linear regression, which we study later, gets its adjective \"multiple,\" because it concerns the study of two or more independent variables.</span>\n",
    "    \n",
    "<br>\n",
    "    \n",
    "<img src=\"ML_icon.jpg\" alt=\"\" style=\"width: 200px;\"/>\n",
    "\n",
    "<br>\n",
    "    \n",
    "Some text here\n",
    "    \n",
    "<br>\n",
    "    \n",
    "<img src=\"data.png\" alt=\"\" style=\"width: 180px;\"/>\n",
    "    \n",
    "Some text here"
   ]
  },
  {
   "cell_type": "markdown",
   "metadata": {},
   "source": [
    "### <span style=\"color:blue\">**MATHEMATICS**</span>\n",
    "\n",
    "<br>\n",
    "\n",
    "<img src=\"Maths-icon.png\" alt=\"\" style=\"width: 180px;\"/>\n",
    "\n",
    "<br>\n",
    "\n",
    "<span style=\"color:blue\">The least squares method</span>"
   ]
  },
  {
   "cell_type": "code",
   "execution_count": 8,
   "metadata": {},
   "outputs": [
    {
     "data": {
      "text/html": [
       "<video width=640\" height=\"480\" controls>\n",
       "  <source src=\"Theory_StraightLine.mp4\" type=\"video/mp4\">\n",
       "</video>\n"
      ],
      "text/plain": [
       "<IPython.core.display.HTML object>"
      ]
     },
     "metadata": {},
     "output_type": "display_data"
    }
   ],
   "source": [
    "%%HTML\n",
    "<video width=640\" height=\"480\" controls>\n",
    "  <source src=\"Theory_StraightLine.mp4\" type=\"video/mp4\">\n",
    "</video>"
   ]
  },
  {
   "cell_type": "markdown",
   "metadata": {},
   "source": [
    "### Use cases\n",
    "\n",
    "Two use cases will be looked into for the simple regression, so we get a good idea of working with different data sets, but the same statistical methods.\n",
    "\n",
    "<br>\n",
    "\n",
    "The use cases are:\n",
    "\n",
    "- Predict the `Sales` amount, based on any of the independent variables `TV`, `Radio` or `Newspaper`, from the **advertisement** data set. The variables `TV`, `Radio` and `Newspaper` stand for the budget spent on advertisement in any of those categories.\n",
    "- Predict the Housing price, based on any correlated independent variable in the **Boston housing** data set."
   ]
  },
  {
   "cell_type": "markdown",
   "metadata": {},
   "source": [
    "## Step 1: Set up the environment\n",
    "\n",
    "The first step in any analysis and modeling is to make sure all required packages are loaded into the environment. Run the following cell block to get all packages imported"
   ]
  },
  {
   "cell_type": "code",
   "execution_count": null,
   "metadata": {},
   "outputs": [],
   "source": [
    "%run -i \"_RunPackages.py\""
   ]
  },
  {
   "cell_type": "markdown",
   "metadata": {},
   "source": [
    "## Step 2: Load data sets\n",
    "\n",
    "Then we need to make sure we have all the data into our environment. As we are using three use cases, we need to make sure we load all three data sets into this environment."
   ]
  },
  {
   "cell_type": "code",
   "execution_count": null,
   "metadata": {},
   "outputs": [],
   "source": [
    "%run -i \"_RunLinearRegression_datasets.py\""
   ]
  },
  {
   "cell_type": "markdown",
   "metadata": {},
   "source": [
    "## Step 3: Load the data dictionary"
   ]
  },
  {
   "cell_type": "code",
   "execution_count": null,
   "metadata": {},
   "outputs": [],
   "source": [
    "%run -i \"_RunDataDictionary_LinearRegression.py\""
   ]
  },
  {
   "cell_type": "markdown",
   "metadata": {},
   "source": [
    "Load the data, add the target variable `MEDV` and look at the first 5 observations."
   ]
  },
  {
   "cell_type": "code",
   "execution_count": null,
   "metadata": {},
   "outputs": [],
   "source": [
    "boston_df = pd.DataFrame(boston.data, columns=boston.feature_names)"
   ]
  },
  {
   "cell_type": "code",
   "execution_count": null,
   "metadata": {},
   "outputs": [],
   "source": [
    "boston_df['MEDV'] = boston.target\n",
    "boston_df.head()"
   ]
  },
  {
   "cell_type": "markdown",
   "metadata": {},
   "source": [
    "In the next step we will have a look at the description of the data, by looking at the values of all features or variables (columns) we have."
   ]
  },
  {
   "cell_type": "code",
   "execution_count": null,
   "metadata": {},
   "outputs": [],
   "source": [
    "boston_df.describe()"
   ]
  },
  {
   "cell_type": "markdown",
   "metadata": {},
   "source": [
    "Then we look at the shape of the data"
   ]
  },
  {
   "cell_type": "code",
   "execution_count": null,
   "metadata": {},
   "outputs": [],
   "source": [
    "boston_df.shape"
   ]
  },
  {
   "cell_type": "markdown",
   "metadata": {},
   "source": [
    "To get an idea of the correlation between variables, we will plot a correlation plot, to see which variables are highly correlated with our target variable `MEDV`"
   ]
  },
  {
   "cell_type": "code",
   "execution_count": null,
   "metadata": {},
   "outputs": [],
   "source": [
    "plt.figure(figsize=(16,6))\n",
    "sns.heatmap(boston_df.corr(), \n",
    "            cmap=\"YlGnBu\", \n",
    "            annot = True, \n",
    "            linewidths=.5)\n",
    "plt.show()"
   ]
  },
  {
   "cell_type": "markdown",
   "metadata": {},
   "source": [
    "We can see that both `RM` and `LSTAT` are having high positive and negative correlations compared to the `MEDV` variable. Let's have a look at the scatter plots for both."
   ]
  },
  {
   "cell_type": "code",
   "execution_count": null,
   "metadata": {},
   "outputs": [],
   "source": [
    "plt.figure(figsize=(20, 5))\n",
    "\n",
    "features = ['LSTAT', 'RM']\n",
    "target = boston_df['MEDV']\n",
    "\n",
    "for i, col in enumerate(features):\n",
    "    plt.subplot(1, len(features) , i+1)\n",
    "    x = boston_df[col]\n",
    "    y = target\n",
    "    plt.scatter(x, y, marker='o')\n",
    "    plt.title(col)\n",
    "    plt.xlabel(col)\n",
    "    plt.ylabel('MEDV')"
   ]
  },
  {
   "cell_type": "markdown",
   "metadata": {},
   "source": [
    "Next up we want to find the equations(s) for the straight line in both plots. \n",
    "\n",
    "The equation is:\n",
    "\n",
    "$y = \\beta_{0} + \\beta_{1}x + \\epsilon$\n",
    "\n",
    "<br>\n",
    "\n",
    "- ,where $\\beta_{0}$ = y-intercept;\n",
    "- and $\\beta_{1}$ = slope of the line;\n",
    "- and $\\epsilon$ is a random error margin"
   ]
  },
  {
   "cell_type": "code",
   "execution_count": null,
   "metadata": {},
   "outputs": [],
   "source": [
    "X = boston_df['RM'].values.reshape(-1,1)\n",
    "y = boston_df['MEDV'].values.reshape(-1,1)\n",
    "\n",
    "reg = LinearRegression()\n",
    "reg.fit(X, y)\n",
    "print(\"The linear model is: Y = {:.5} + {:.5}X + \\u03B5\".format(reg.intercept_[0], \n",
    "                                                                reg.coef_[0][0]))"
   ]
  },
  {
   "cell_type": "code",
   "execution_count": null,
   "metadata": {},
   "outputs": [],
   "source": [
    "predictions = reg.predict(X)\n",
    "plt.figure(figsize=(16, 8))\n",
    "plt.scatter(\n",
    "    boston_df['RM'],\n",
    "    boston_df['MEDV'],\n",
    "    c='black'\n",
    ")\n",
    "plt.plot(\n",
    "    boston_df['RM'],\n",
    "    predictions,\n",
    "    c='blue',\n",
    "    linewidth=2\n",
    ")\n",
    "plt.xlabel(\"Average number of rooms per dwelling\")\n",
    "plt.ylabel(\"Price\")\n",
    "plt.show()"
   ]
  },
  {
   "cell_type": "code",
   "execution_count": null,
   "metadata": {},
   "outputs": [],
   "source": [
    "X_lstat = boston_df['LSTAT'].values.reshape(-1,1)\n",
    "y_lstat = boston_df['MEDV'].values.reshape(-1,1)\n",
    "\n",
    "reg = LinearRegression()\n",
    "reg.fit(X_lstat, y_lstat)\n",
    "print(\"The linear model is: Y = {:.5} + {:.5}X + \\u03B5\".format(reg.intercept_[0], \n",
    "                                                                reg.coef_[0][0]))"
   ]
  },
  {
   "cell_type": "code",
   "execution_count": null,
   "metadata": {},
   "outputs": [],
   "source": [
    "predictions = reg.predict(X_lstat)\n",
    "plt.figure(figsize=(16, 8))\n",
    "plt.scatter(\n",
    "    boston_df['LSTAT'],\n",
    "    boston_df['MEDV'],\n",
    "    c='black'\n",
    ")\n",
    "plt.plot(\n",
    "    boston_df['LSTAT'],\n",
    "    predictions,\n",
    "    c='blue',\n",
    "    linewidth=2\n",
    ")\n",
    "plt.xlabel(\"Percentage of lower status of the population\")\n",
    "plt.ylabel(\"Price\")\n",
    "plt.show()"
   ]
  },
  {
   "cell_type": "markdown",
   "metadata": {},
   "source": [
    "Then we use an Ordinary Least Squared (OLS) model for the linear regression [More info on OLS](https://statisticsbyjim.com/regression/ols-linear-regression-assumptions/)"
   ]
  },
  {
   "cell_type": "code",
   "execution_count": null,
   "metadata": {},
   "outputs": [],
   "source": [
    "X = boston_df['RM']\n",
    "y = boston_df['MEDV']\n",
    "X2 = sm.add_constant(X)\n",
    "est = sm.OLS(y, X2)\n",
    "est2 = est.fit()\n",
    "print(est2.summary())"
   ]
  },
  {
   "cell_type": "code",
   "execution_count": null,
   "metadata": {},
   "outputs": [],
   "source": [
    "X_lstat = boston_df['LSTAT']\n",
    "y_lstat = boston_df['MEDV']\n",
    "X2 = sm.add_constant(X_lstat)\n",
    "est = sm.OLS(y_lstat, X2)\n",
    "est2 = est.fit()\n",
    "print(est2.summary())"
   ]
  },
  {
   "cell_type": "markdown",
   "metadata": {},
   "source": [
    "From the OLS model, we are not getting great values for R-squared, which might mean either the model is not set up correctly, or the model itself doesn't perform well. Let's try another linear regression model."
   ]
  },
  {
   "cell_type": "code",
   "execution_count": null,
   "metadata": {},
   "outputs": [],
   "source": [
    "X = pd.DataFrame(np.c_[boston_df['LSTAT'], boston_df['RM']], columns = ['LSTAT','RM'])\n",
    "Y = boston_df['MEDV']"
   ]
  },
  {
   "cell_type": "markdown",
   "metadata": {},
   "source": [
    "Split the data into a train and test data set"
   ]
  },
  {
   "cell_type": "code",
   "execution_count": null,
   "metadata": {},
   "outputs": [],
   "source": [
    "from sklearn.model_selection import train_test_split\n",
    "\n",
    "X_train, X_test, Y_train, Y_test = train_test_split(X, Y, test_size = 0.2, random_state=5)\n",
    "print(X_train.shape)\n",
    "print(X_test.shape)\n",
    "print(Y_train.shape)\n",
    "print(Y_test.shape)"
   ]
  },
  {
   "cell_type": "markdown",
   "metadata": {},
   "source": [
    "Run the Linear Regression model"
   ]
  },
  {
   "cell_type": "code",
   "execution_count": null,
   "metadata": {},
   "outputs": [],
   "source": [
    "from sklearn.linear_model import LinearRegression\n",
    "from sklearn.metrics import mean_squared_error\n",
    "\n",
    "lin_model = LinearRegression()\n",
    "lin_model.fit(X_train, Y_train)"
   ]
  },
  {
   "cell_type": "markdown",
   "metadata": {},
   "source": [
    "Evaluate the model"
   ]
  },
  {
   "cell_type": "code",
   "execution_count": null,
   "metadata": {},
   "outputs": [],
   "source": [
    "# model evaluation for training set\n",
    "y_train_predict = lin_model.predict(X_train)\n",
    "rmse = (np.sqrt(mean_squared_error(Y_train, y_train_predict)))\n",
    "r2 = r2_score(Y_train, y_train_predict)\n",
    "\n",
    "print(\"The model performance for training set\")\n",
    "print(\"--------------------------------------\")\n",
    "print('RMSE is {}'.format(rmse))\n",
    "print('R2 score is {}'.format(r2))\n",
    "print(\"\\n\")\n",
    "\n",
    "# model evaluation for testing set\n",
    "y_test_predict = lin_model.predict(X_test)\n",
    "rmse = (np.sqrt(mean_squared_error(Y_test, y_test_predict)))\n",
    "r2 = r2_score(Y_test, y_test_predict)\n",
    "\n",
    "print(\"The model performance for testing set\")\n",
    "print(\"--------------------------------------\")\n",
    "print('RMSE is {}'.format(rmse))\n",
    "print('R2 score is {}'.format(r2))"
   ]
  },
  {
   "cell_type": "markdown",
   "metadata": {},
   "source": [
    "We can now see that using this linear regression model, the R-squared value is arounf 63% for the train set and 66% for the test set. These values are not that great, but good enough for now."
   ]
  }
 ],
 "metadata": {
  "kernelspec": {
   "display_name": "Python 3",
   "language": "python",
   "name": "python3"
  },
  "language_info": {
   "codemirror_mode": {
    "name": "ipython",
    "version": 3
   },
   "file_extension": ".py",
   "mimetype": "text/x-python",
   "name": "python",
   "nbconvert_exporter": "python",
   "pygments_lexer": "ipython3",
   "version": "3.6.5"
  }
 },
 "nbformat": 4,
 "nbformat_minor": 4
}
